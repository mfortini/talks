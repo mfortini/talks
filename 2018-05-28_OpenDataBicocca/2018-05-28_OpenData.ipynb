{
 "cells": [
  {
   "cell_type": "code",
   "execution_count": 107,
   "metadata": {
    "slideshow": {
     "slide_type": "skip"
    }
   },
   "outputs": [],
   "source": [
    "import pandas as pd\n",
    "import numpy as np\n",
    "from PIL import Image\n",
    "\n",
    "%matplotlib inline\n",
    "from matplotlib.pyplot import imshow\n",
    "from matplotlib import pyplot as plt\n",
    "\n",
    "import lxml.etree as etree\n",
    "import json\n"
   ]
  },
  {
   "cell_type": "markdown",
   "metadata": {
    "slideshow": {
     "slide_type": "slide"
    }
   },
   "source": [
    "\n",
    "# Open Data\n",
    "\n",
    "* Perché parliamo di dati?\n",
    "* Perché parliamo di \"open\"?"
   ]
  },
  {
   "cell_type": "markdown",
   "metadata": {
    "slideshow": {
     "slide_type": "subslide"
    }
   },
   "source": [
    "## Una volta i dati erano\n",
    "\n",
    "* Elenchi:\n",
    "    * Liste\n",
    "    * Vocabolari\n",
    "    * Enciclopedie\n",
    "* Numeri\n",
    "* Mappe"
   ]
  },
  {
   "attachments": {},
   "cell_type": "markdown",
   "metadata": {
    "slideshow": {
     "slide_type": "subslide"
    }
   },
   "source": [
    "\n",
    "<center><img src=\"img/datiSanPietroRoma.jpg\" width=\"400\">Da una lapide in S. Pietro a Roma</img></center>\n"
   ]
  },
  {
   "attachments": {},
   "cell_type": "markdown",
   "metadata": {
    "slideshow": {
     "slide_type": "subslide"
    }
   },
   "source": [
    "<center><img src=\"img/1280px-Mappa_dintorni_Milano.jpg\" width=600></center>"
   ]
  },
  {
   "cell_type": "markdown",
   "metadata": {
    "slideshow": {
     "slide_type": "subslide"
    }
   },
   "source": [
    "## Dopo l'avvento del **digitale** tutto è un dato\n",
    "\n",
    "* Elenchi\n",
    "* Numeri\n",
    "* Testi (la Bibbia è un libro o un testo?)\n",
    "* Musica\n",
    "* Immagini\n",
    "* Telefonate\n",
    "* ..."
   ]
  },
  {
   "cell_type": "markdown",
   "metadata": {
    "slideshow": {
     "slide_type": "subslide"
    }
   },
   "source": [
    "## Se è un dato, lo possiamo\n",
    "\n",
    "* Memorizzare\n",
    "* Analizzare\n",
    "* Confrontare\n",
    "* Utilizzare"
   ]
  },
  {
   "attachments": {},
   "cell_type": "markdown",
   "metadata": {
    "slideshow": {
     "slide_type": "subslide"
    }
   },
   "source": [
    "![2016-versus-2017-internet-minute-data-by-Excelacom.jpg](img/2016-versus-2017-internet-minute-data-by-Excelacom.jpg)"
   ]
  },
  {
   "attachments": {},
   "cell_type": "markdown",
   "metadata": {
    "slideshow": {
     "slide_type": "subslide"
    }
   },
   "source": [
    "<center>![connected-devices-billions-ericcson.jpg](img/connected-devices-billions-ericcson.jpg)</center>\n",
    "Fonte: Ericcson"
   ]
  },
  {
   "attachments": {},
   "cell_type": "markdown",
   "metadata": {
    "slideshow": {
     "slide_type": "subslide"
    }
   },
   "source": [
    "<center>![YouTube1Billion.jpg](img/YouTube1Billion.jpg)</center>"
   ]
  },
  {
   "attachments": {},
   "cell_type": "markdown",
   "metadata": {
    "slideshow": {
     "slide_type": "subslide"
    }
   },
   "source": [
    "<table><tr><td><img src=\"img/pornhub-insights-game-of-thrones-s7-premiere-traffic-drop-1.jpg\" width=400></td>\n",
    "    <td><img src=\"img/pornhub-insights-2017.jpg\" width=400></td></tr></table>"
   ]
  },
  {
   "cell_type": "markdown",
   "metadata": {
    "slideshow": {
     "slide_type": "notes"
    }
   },
   "source": [
    "## Tipi di dati\n",
    "\n",
    "* Testuali\n",
    "* Numerici\n",
    "* Tabulari\n",
    "* Oggetti gerarchici\n",
    "* Geografici"
   ]
  },
  {
   "cell_type": "markdown",
   "metadata": {
    "slideshow": {
     "slide_type": "subslide"
    }
   },
   "source": [
    "## Dati testuali\n",
    "\n",
    "* Contengono testi, normalmente in \"linguaggio naturale\".\n",
    "* Se non sono direttamente narrazioni o descrizioni, sono complicati da gestire automaticamente\n",
    "* Per questo normalmente vengono _aumentati_ con l'introduzione di _markup_ o _tag_ (il più famoso è l'_hashtag_)"
   ]
  },
  {
   "cell_type": "markdown",
   "metadata": {
    "slideshow": {
     "slide_type": "subslide"
    }
   },
   "source": [
    "## Dati numerici\n",
    "\n",
    "* Contengono numeri, interi o con la virgola\n",
    "* Di solito descrivono una grandezza\n",
    "* Unità di misura?\n",
    "* Base?\n",
    "* Importante sapere quali separatori per i decimali e le migliaia\n",
    "* Sono \"facili\" da gestire automaticamente\n",
    "* Per questo spesso si cerca di ridurre tutto a un numero"
   ]
  },
  {
   "cell_type": "markdown",
   "metadata": {
    "slideshow": {
     "slide_type": "subslide"
    }
   },
   "source": [
    "## Dati tabulari\n",
    "\n",
    "* Composti da tabelle di righe e colonne\n",
    "* Le colonne identificano gli attributi\n",
    "* Le righe identificano entità\n",
    "* Per identificare relazioni:\n",
    "    * sono necessarie più tabelle\n",
    "    * O più ripetizioni\n",
    "* Sono \"facili\" da gestire automaticamente\n",
    "* I DataBase storicamente sono formati da tabelle (Entity-Relationship)\n",
    "* Le colonne sono un primo livello informativo\n",
    "* Tutte le entità devono avere lo stesso numero di attributi"
   ]
  },
  {
   "cell_type": "markdown",
   "metadata": {
    "slideshow": {
     "slide_type": "subslide"
    }
   },
   "source": [
    "## Dati a oggetti gerarchici\n",
    "\n",
    "* Composti da oggetti o liste di oggetti che contengono ciascuno\n",
    "    * attributi\n",
    "    * altri oggetti o liste di oggetti\n",
    "* Permettono di gestire relazioni (es. appartenenza) in modo più evidente\n",
    "* Sono gestibili automaticamente\n",
    "* La loro gestione è meno efficiente dal punto di vista computazionale\n",
    "* Ogni entità può avere un numero di attributi diverso"
   ]
  },
  {
   "cell_type": "markdown",
   "metadata": {
    "slideshow": {
     "slide_type": "subslide"
    }
   },
   "source": [
    "## Dati geografici\n",
    "\n",
    "* Composti da entità che abbiano associate delle _coordinate_\n",
    "* Utilizzati nei GIS Geographical Information Systems\n",
    "* Problema dei sistemi di riferimento e delle proiezioni\n",
    "    * http://spatialreference.org/\n",
    "    * https://courses.washington.edu/gis250/lessons/projection/\n",
    "    * http://epsg.io/?q=Italy\n",
    "* Normalmente sono coordinate\n",
    "    * Geografiche, in gradi es [EPSG4326](https://epsg.io/4326)/WGS84 (GPS, Google Earth, ...)\n",
    "    * Geometriche, in metri es [EPSG3857](https://epsg.io/3857) o [EPSG3003](https://epsg.io/3003) (Monte Mario)\n",
    "    \n",
    "Un tool: QGIS https://www.qgis.org"
   ]
  },
  {
   "cell_type": "markdown",
   "metadata": {
    "slideshow": {
     "slide_type": "slide"
    }
   },
   "source": [
    "## _Open_ data\n",
    "\n",
    "* Cos'è il copyright?\n",
    "    * Quali sono le norme nel nostro paese?\n",
    "    * Cosa coprono?\n",
    "* Come si applica il copyright quando il bene è **duplicabile senza danno**?"
   ]
  },
  {
   "cell_type": "markdown",
   "metadata": {
    "slideshow": {
     "slide_type": "subslide"
    }
   },
   "source": [
    "## Partiamo dal _software_\n",
    "\n",
    "* Inizialmente il software era tutto libero\n",
    "* Uno dei primi a farne un problema è stato Henry William \"Bill\" Gates\n",
    "* Uno dei primi a contestare questa cosa è stato RMS o Richard Matthew Stallman\n"
   ]
  },
  {
   "attachments": {},
   "cell_type": "markdown",
   "metadata": {
    "slideshow": {
     "slide_type": "subslide"
    }
   },
   "source": [
    "<img src=\"img/Bill_Gates_Letter_to_Hobbyists.jpg\" width=400>"
   ]
  },
  {
   "cell_type": "markdown",
   "metadata": {
    "slideshow": {
     "slide_type": "subslide"
    }
   },
   "source": [
    "\n",
    ">The feedback we have gotten from the hundreds of people who say they are using BASIC has all been positive. Two surprising things are apparent, however, 1) Most of these \"users\" never bought BASIC (less than 10% of all Altair owners have bought BASIC), and 2) The amount of royalties we have received from sales to hobbyists makes the time spent on Altair BASIC worth less than $2 an hour.\n",
    ">\n",
    ">Why is this? As the majority of hobbyists must be aware, most of you steal your software. Hardware must be paid >for, but software is something to share. Who cares if the people who worked on it get paid?\n",
    ">\n",
    ">Is this fair? One thing you don't do by stealing software is get back at MITS for some problem you may have had. \n",
    "\n",
    "> <cite>Bill Gates <br> General Partner, Micro-Soft</cite>"
   ]
  },
  {
   "cell_type": "markdown",
   "metadata": {
    "slideshow": {
     "slide_type": "subslide"
    }
   },
   "source": [
    "## Questione di _licenze_\n",
    "\n",
    "* Un bene immateriale non lo possiedi, ti viene *dato in licenza*\n",
    "* La licenza indica quello che ti è permesso e quello che ti è vietato\n",
    "* In particolare, tutte le licenze ti vietano di\n",
    "    * Duplicare (tranne che per conservazione)\n",
    "    * Prestare\n",
    "    * ...\n"
   ]
  },
  {
   "cell_type": "markdown",
   "metadata": {
    "slideshow": {
     "slide_type": "subslide"
    }
   },
   "source": [
    "## Copy*right* e Copy*left*"
   ]
  },
  {
   "cell_type": "markdown",
   "metadata": {
    "slideshow": {
     "slide_type": "subslide"
    }
   },
   "source": [
    "## Le licenze *Open Source*\n",
    "\n",
    "* La GPL\n",
    "\n",
    "Ma anche...\n",
    "\n",
    "* La MIT\n",
    "* La Apache\n",
    "* La freemium\n",
    "* La shareware\n",
    "* La freeware\n",
    "* La public domain\n",
    "* La WTFPL\n"
   ]
  },
  {
   "cell_type": "markdown",
   "metadata": {
    "slideshow": {
     "slide_type": "subslide"
    }
   },
   "source": [
    "## Quali licenze sono considerate *Open Source*?\n",
    "\n",
    "* Ci aiuta la **OSI Open Source Initiative** https://opensource.org/licenses\n",
    "* Ci permette anche di **scegliere una licenza** https://choosealicense.com/\n",
    "\n",
    "### Cos'è una *licenza virale*?"
   ]
  },
  {
   "cell_type": "markdown",
   "metadata": {
    "slideshow": {
     "slide_type": "subslide"
    }
   },
   "source": [
    "## Come si applica tutto questo ai **dati**?\n",
    "\n",
    "* I dati sono _software_, ma di un tipo particolare\n",
    "* Oppure potremmo dire che il software è un dato di tipo particolare\n",
    "\n",
    "> The **Open Definition** states: \"A piece of content or data is open if anyone is free to use, reuse, and redistribute it — subject only, at most, to the requirement to attribute and share-alike.\""
   ]
  },
  {
   "cell_type": "markdown",
   "metadata": {
    "slideshow": {
     "slide_type": "subslide"
    }
   },
   "source": [
    "## Esistono *licenze per i dati*\n",
    "\n",
    "* Fra le più famose la **Creative Commons** (CC)\n",
    "* Ma anche qui ci aiuta la **OKFN Open Knowledge Foundation** https://licenses.opendefinition.org/\n",
    "* Esiste un **selezionatore di licenze** https://creativecommons.org/choose/?lang=it\n",
    "* Esiste un **motore di ricerca di contenuti open** https://search.creativecommons.org/\n",
    "* In Italia esiste la **IODL Italian Open-Data License** https://www.dati.gov.it/content/italian-open-data-license-v20"
   ]
  },
  {
   "attachments": {},
   "cell_type": "markdown",
   "metadata": {
    "slideshow": {
     "slide_type": "slide"
    }
   },
   "source": [
    "## La _qualità_ dei dati\n",
    "\n",
    "Tim Berners-Lee, l'inventore del World Wide Web, ha definito una classifica dei tipi di Open Data https://www.w3.org/DesignIssues/LinkedData.html basandosi su 5 criteri:\n",
    "1. **OL** Open License\n",
    "2. **RE** machine REadable\n",
    "3. **OF** Open Format\n",
    "4. **URI** Uniform Resource Identifier\n",
    "5. **LD** Linked Data\n",
    "\n"
   ]
  },
  {
   "attachments": {},
   "cell_type": "markdown",
   "metadata": {
    "slideshow": {
     "slide_type": "subslide"
    }
   },
   "source": [
    "<center><img src=\"img/5-star-steps.png\"></center>"
   ]
  },
  {
   "cell_type": "markdown",
   "metadata": {
    "slideshow": {
     "slide_type": "slide"
    }
   },
   "source": [
    "# Formati e metadati"
   ]
  },
  {
   "cell_type": "markdown",
   "metadata": {
    "slideshow": {
     "slide_type": "subslide"
    }
   },
   "source": [
    "## Un formato è un _contratto_\n",
    "\n",
    "* Comunicazione: trasmittente, ricevente, messaggio\n",
    "* Perché la comunicazione avvenga correttamente, il messaggio dev'essere compreso\n",
    "* Il _formato_ definisce che aspetto avrà il messaggio, in modo da poterlo decodificare\n",
    "    * Nella lingua parlata la Lingua è un formato\n",
    "    * Nella lingua scritta l'alfabeto è un formato\n",
    "    * I formati digitali puntano alla *non ambiguità*"
   ]
  },
  {
   "cell_type": "markdown",
   "metadata": {},
   "source": [
    "## I _metadati_ sono dati ulteriori che \"aumentano\" i dati\n",
    "\n",
    "* Non sono parte del messaggio in sé\n",
    "* Ma ne aiutano:\n",
    "    * La comprensione\n",
    "    * La catalogazione\n",
    "    * I collegamenti\n",
    "* Le note di un libro sono metadati\n",
    "* NB anche i metadati sono dati. E hanno un formato..."
   ]
  },
  {
   "cell_type": "markdown",
   "metadata": {
    "slideshow": {
     "slide_type": "slide"
    }
   },
   "source": [
    "### I formati *non readable*\n",
    "\n",
    "* Raster\n",
    "* PDF (soprattutto raster)\n",
    "* In generale i **formati proprietari**"
   ]
  },
  {
   "attachments": {},
   "cell_type": "markdown",
   "metadata": {
    "slideshow": {
     "slide_type": "subslide"
    }
   },
   "source": [
    "<img src=\"img/US_Federal_Transfer_Payments.jpg\" width=600>"
   ]
  },
  {
   "cell_type": "code",
   "execution_count": 54,
   "metadata": {
    "slideshow": {
     "slide_type": "skip"
    }
   },
   "outputs": [
    {
     "data": {
      "image/png": "[encoded data removed]",
      "text/plain": [
       "<Figure size 720x720 with 1 Axes>"
      ]
     },
     "metadata": {},
     "output_type": "display_data"
    }
   ],
   "source": [
    "\n",
    "im=Image.open('img/US_Federal_Transfer_Payments.jpg')\n",
    "\n",
    "imdetail=im.crop((261,122,261+10,122+10))\n",
    "imdetaila=np.array(imdetail)\n",
    "fig, ax = plt.subplots(figsize=(10,10))\n",
    "im = ax.imshow(imdetail)\n",
    "\n",
    "def rgb2hex(rgb):\n",
    "    return \"#%02X%02X%02X\" % (rgb[0],rgb[1],rgb[2])\n",
    "\n",
    "# Loop over data dimensions and create text annotations.\n",
    "for i in range(imdetail.size[0]):\n",
    "    for j in range(imdetail.size[1]):\n",
    "        text = ax.text(j, i, rgb2hex(imdetaila[i, j]),\n",
    "                       ha=\"center\", va=\"center\", color=\"w\")\n"
   ]
  },
  {
   "cell_type": "code",
   "execution_count": 59,
   "metadata": {
    "slideshow": {
     "slide_type": "subslide"
    }
   },
   "outputs": [
    {
     "data": {
      "image/png": "[encoded data removed]",
      "text/plain": [
       "<Figure size 720x720 with 1 Axes>"
      ]
     },
     "execution_count": 59,
     "metadata": {},
     "output_type": "execute_result"
    }
   ],
   "source": [
    "fig"
   ]
  },
  {
   "attachments": {},
   "cell_type": "markdown",
   "metadata": {
    "slideshow": {
     "slide_type": "subslide"
    }
   },
   "source": [
    "## PDF _non_ è un formato readable\n",
    "\n",
    "* https://webproto.si.unimib.it/ADP/\n",
    "\n",
    "<img src=\"img/bicoccaAlbo-0.jpg\" width=400>"
   ]
  },
  {
   "cell_type": "markdown",
   "metadata": {
    "slideshow": {
     "slide_type": "slide"
    }
   },
   "source": [
    "### I formati *readable*\n",
    "\n",
    "Più o meno _strutturati_...\n",
    "\n",
    "* TXT\n",
    "* Formati **binari**\n",
    "    * hanno più problemi dovuti per esempio all'_endianness_\n",
    "    * sono molto più compatti\n",
    "    * richiedono una macchina per essere interpretati da un umano\n",
    "* Formati **human readable**\n",
    "    * possono essere interpretati (con diversa difficoltà) da un umano\n",
    "    * sono meno compatti\n",
    "    * nella pratica, con la compressione il problema dello spazio è molto gestibile\n",
    " "
   ]
  },
  {
   "cell_type": "markdown",
   "metadata": {
    "slideshow": {
     "slide_type": "slide"
    }
   },
   "source": [
    "## Esempi di formati _human readable_\n",
    "\n",
    "* CSV\n",
    "* XML\n",
    "* JSON e GeoJSON\n",
    "* Frictionless datapackage di OKFN\n",
    "* LOD:\n",
    "    * JSON-LD\n",
    "    * RDG\n",
    "* PDF e OCR e Tabula"
   ]
  },
  {
   "cell_type": "markdown",
   "metadata": {
    "slideshow": {
     "slide_type": "slide"
    }
   },
   "source": [
    "## TXT\n",
    "\n",
    "* Il formato di testo è machine readable, ma in generale _non strutturato_.\n",
    "* Non è necessariamente una cosa negativa: dipende da cosa rappresenta\n",
    "* Restano alcuni problemi, legati soprattutto:\n",
    "    * A come si va \"a capo\"\n",
    "    * A come si codificano i caratteri, vedi:\n",
    "        * https://www.asciitable.com/\n",
    "        * http://www.unicode.org/\n",
    "        * https://www.w3schools.com/charsets/ref_html_utf8.asp"
   ]
  },
  {
   "cell_type": "markdown",
   "metadata": {
    "slideshow": {
     "slide_type": "slide"
    }
   },
   "source": [
    "## CSV (Comma) Separated Values\n",
    "\n",
    "* Formato **testuale**\n",
    "* Formato **tabulare**\n",
    "* Il separatore può essere la virgola, ma spesso è usato il punto e virgola, la barra verticale, ...\n",
    "* Alcuni problemi del TXT restano\n",
    "* Il separatore può confondersi con il separatore dei decimali\n",
    "* Non è indicato il **tipo delle colonne**\n",
    "* Non si possono gestire gerarchie\n",
    "\n",
    "* Parametri importanti:\n",
    "    * Separatore\n",
    "    * Carattere che circonda le celle di testo (potrebbero contenere il separatore)\n",
    "    * (eventuali) linee di Header"
   ]
  },
  {
   "cell_type": "markdown",
   "metadata": {
    "slideshow": {
     "slide_type": "subslide"
    }
   },
   "source": [
    "## Andiamo a vedere un CSV\n",
    "\n",
    "https://www.dati.lombardia.it/Solidariet-/Albo-Cooperative-Sociali-al-31-12-2015/tuar-wxya/data\n",
    "\n"
   ]
  },
  {
   "cell_type": "code",
   "execution_count": 83,
   "metadata": {
    "slideshow": {
     "slide_type": "subslide"
    }
   },
   "outputs": [
    {
     "name": "stdout",
     "output_type": "stream",
     "text": [
      "DENOMINAZIONE,COMUNE,PROVINCIA,TELEFONO,EMAIL,AREA,SERVIZI,ATTIVITA,TIPOLOGIE PERSONE SVANTAGGIATE,WGS84_Y,WGS84_X,location\n",
      "\n",
      "ZEROGRAFICA SOCIETA' COOPERATIVA SOCIALE,Milano,MI,3387621099,,,,Tipografia e stampa,Detenuti,45.5253903,9.0936669,\"(45.5253903, 9.0936669)\"\n",
      "\n",
      "STELLA MARIS - SOCIETA' COOPERATIVA SOCIALE ONLUS,Mantova,MN,0376151018,info@coopstellamaris.it,\"Anziani, Disabili/Handicappati, Famiglia, Psichiatria\",\"Altro, Assistenza Domiciliare integrata Anziani, Assistenza Domiciliare integrata Disabili, Assistenza domiciliare pazienti psichiatrici\",,,45.1518998,10.7822165,\"(45.1518998, 10.7822165)\"\n",
      "\n",
      "L'AQUILONE SOCIETA' COOPERATIVA SOCIALE,Sesto Calende,VA,03311830570,laquilonescs@laquilonescs.it,\"Disabili/Handicappati, Disagio Giovanile, Educativa, Famiglia, Minori, Prevenzione del disagio, Stranieri\",\"Animazione culturale  e territoriale, Assistenza Pre e Post Scolastica, Assistenza domiciliare minori, Assistenza scolastica \"\"ad personam\"\", Attività Extra scolastiche a minori, Centro di Aggregazione Giovanile, Educatori di Strada, Formazione - Consulenza - Progettazione, Informagiovani - Spazio giovani, Progettazione servizi sperimentali\",,,45.7249613,8.6322301,\"(45.7249613, 8.6322301)\"\n",
      "\n"
     ]
    }
   ],
   "source": [
    "coopSocialiF=open('download/Albo_Cooperative_Sociali_al_31.12.2015.csv','r')\n",
    "\n",
    "for i in range(4):\n",
    "    print (coopSocialiF.readline())"
   ]
  },
  {
   "cell_type": "code",
   "execution_count": 84,
   "metadata": {
    "slideshow": {
     "slide_type": "skip"
    }
   },
   "outputs": [],
   "source": [
    "coopSociali=pd.read_csv('download/Albo_Cooperative_Sociali_al_31.12.2015.csv')"
   ]
  },
  {
   "cell_type": "code",
   "execution_count": 85,
   "metadata": {
    "scrolled": true,
    "slideshow": {
     "slide_type": "subslide"
    }
   },
   "outputs": [
    {
     "data": {
      "text/html": [
       "<div>\n",
       "<style scoped>\n",
       "    .dataframe tbody tr th:only-of-type {\n",
       "        vertical-align: middle;\n",
       "    }\n",
       "\n",
       "    .dataframe tbody tr th {\n",
       "        vertical-align: top;\n",
       "    }\n",
       "\n",
       "    .dataframe thead th {\n",
       "        text-align: right;\n",
       "    }\n",
       "</style>\n",
       "<table border=\"1\" class=\"dataframe\">\n",
       "  <thead>\n",
       "    <tr style=\"text-align: right;\">\n",
       "      <th></th>\n",
       "      <th>DENOMINAZIONE</th>\n",
       "      <th>COMUNE</th>\n",
       "      <th>PROVINCIA</th>\n",
       "      <th>TELEFONO</th>\n",
       "      <th>EMAIL</th>\n",
       "      <th>AREA</th>\n",
       "      <th>SERVIZI</th>\n",
       "      <th>ATTIVITA</th>\n",
       "      <th>TIPOLOGIE PERSONE SVANTAGGIATE</th>\n",
       "      <th>WGS84_Y</th>\n",
       "      <th>WGS84_X</th>\n",
       "      <th>location</th>\n",
       "    </tr>\n",
       "  </thead>\n",
       "  <tbody>\n",
       "    <tr>\n",
       "      <th>0</th>\n",
       "      <td>ZEROGRAFICA SOCIETA' COOPERATIVA SOCIALE</td>\n",
       "      <td>Milano</td>\n",
       "      <td>MI</td>\n",
       "      <td>3387621099</td>\n",
       "      <td>NaN</td>\n",
       "      <td>NaN</td>\n",
       "      <td>NaN</td>\n",
       "      <td>Tipografia e stampa</td>\n",
       "      <td>Detenuti</td>\n",
       "      <td>45.525390</td>\n",
       "      <td>9.093667</td>\n",
       "      <td>(45.5253903, 9.0936669)</td>\n",
       "    </tr>\n",
       "    <tr>\n",
       "      <th>1</th>\n",
       "      <td>STELLA MARIS - SOCIETA' COOPERATIVA SOCIALE ONLUS</td>\n",
       "      <td>Mantova</td>\n",
       "      <td>MN</td>\n",
       "      <td>0376151018</td>\n",
       "      <td>info@coopstellamaris.it</td>\n",
       "      <td>Anziani, Disabili/Handicappati, Famiglia, Psic...</td>\n",
       "      <td>Altro, Assistenza Domiciliare integrata Anzian...</td>\n",
       "      <td>NaN</td>\n",
       "      <td>NaN</td>\n",
       "      <td>45.151900</td>\n",
       "      <td>10.782216</td>\n",
       "      <td>(45.1518998, 10.7822165)</td>\n",
       "    </tr>\n",
       "    <tr>\n",
       "      <th>2</th>\n",
       "      <td>L'AQUILONE SOCIETA' COOPERATIVA SOCIALE</td>\n",
       "      <td>Sesto Calende</td>\n",
       "      <td>VA</td>\n",
       "      <td>03311830570</td>\n",
       "      <td>laquilonescs@laquilonescs.it</td>\n",
       "      <td>Disabili/Handicappati, Disagio Giovanile, Educ...</td>\n",
       "      <td>Animazione culturale  e territoriale, Assisten...</td>\n",
       "      <td>NaN</td>\n",
       "      <td>NaN</td>\n",
       "      <td>45.724961</td>\n",
       "      <td>8.632230</td>\n",
       "      <td>(45.7249613, 8.6322301)</td>\n",
       "    </tr>\n",
       "    <tr>\n",
       "      <th>3</th>\n",
       "      <td>IL BUON PASTORE SOCIETA' COOPERATIVA SOCIALE -...</td>\n",
       "      <td>Milano</td>\n",
       "      <td>MI</td>\n",
       "      <td>3391607328</td>\n",
       "      <td>vincenzotufano@live.it</td>\n",
       "      <td>Altro</td>\n",
       "      <td>Altro</td>\n",
       "      <td>NaN</td>\n",
       "      <td>NaN</td>\n",
       "      <td>45.425210</td>\n",
       "      <td>9.175097</td>\n",
       "      <td>(45.4252103, 9.1750972)</td>\n",
       "    </tr>\n",
       "    <tr>\n",
       "      <th>4</th>\n",
       "      <td>PROGETTO E LAVORO - SOCIETA' COOPERATIVA SOCIALE</td>\n",
       "      <td>Brescia</td>\n",
       "      <td>BS</td>\n",
       "      <td>0302524763</td>\n",
       "      <td>NaN</td>\n",
       "      <td>NaN</td>\n",
       "      <td>NaN</td>\n",
       "      <td>Altro, Progettazione e istallazione impianti f...</td>\n",
       "      <td>NaN</td>\n",
       "      <td>45.534553</td>\n",
       "      <td>10.219526</td>\n",
       "      <td>(45.53455319, 10.21952553)</td>\n",
       "    </tr>\n",
       "  </tbody>\n",
       "</table>\n",
       "</div>"
      ],
      "text/plain": [
       "                                       DENOMINAZIONE         COMUNE PROVINCIA  \\\n",
       "0           ZEROGRAFICA SOCIETA' COOPERATIVA SOCIALE         Milano        MI   \n",
       "1  STELLA MARIS - SOCIETA' COOPERATIVA SOCIALE ONLUS        Mantova        MN   \n",
       "2            L'AQUILONE SOCIETA' COOPERATIVA SOCIALE  Sesto Calende        VA   \n",
       "3  IL BUON PASTORE SOCIETA' COOPERATIVA SOCIALE -...         Milano        MI   \n",
       "4   PROGETTO E LAVORO - SOCIETA' COOPERATIVA SOCIALE        Brescia        BS   \n",
       "\n",
       "      TELEFONO                         EMAIL  \\\n",
       "0   3387621099                           NaN   \n",
       "1   0376151018       info@coopstellamaris.it   \n",
       "2  03311830570  laquilonescs@laquilonescs.it   \n",
       "3   3391607328        vincenzotufano@live.it   \n",
       "4   0302524763                           NaN   \n",
       "\n",
       "                                                AREA  \\\n",
       "0                                                NaN   \n",
       "1  Anziani, Disabili/Handicappati, Famiglia, Psic...   \n",
       "2  Disabili/Handicappati, Disagio Giovanile, Educ...   \n",
       "3                                              Altro   \n",
       "4                                                NaN   \n",
       "\n",
       "                                             SERVIZI  \\\n",
       "0                                                NaN   \n",
       "1  Altro, Assistenza Domiciliare integrata Anzian...   \n",
       "2  Animazione culturale  e territoriale, Assisten...   \n",
       "3                                              Altro   \n",
       "4                                                NaN   \n",
       "\n",
       "                                            ATTIVITA  \\\n",
       "0                                Tipografia e stampa   \n",
       "1                                                NaN   \n",
       "2                                                NaN   \n",
       "3                                                NaN   \n",
       "4  Altro, Progettazione e istallazione impianti f...   \n",
       "\n",
       "  TIPOLOGIE PERSONE SVANTAGGIATE    WGS84_Y    WGS84_X  \\\n",
       "0                       Detenuti  45.525390   9.093667   \n",
       "1                            NaN  45.151900  10.782216   \n",
       "2                            NaN  45.724961   8.632230   \n",
       "3                            NaN  45.425210   9.175097   \n",
       "4                            NaN  45.534553  10.219526   \n",
       "\n",
       "                     location  \n",
       "0     (45.5253903, 9.0936669)  \n",
       "1    (45.1518998, 10.7822165)  \n",
       "2     (45.7249613, 8.6322301)  \n",
       "3     (45.4252103, 9.1750972)  \n",
       "4  (45.53455319, 10.21952553)  "
      ]
     },
     "execution_count": 85,
     "metadata": {},
     "output_type": "execute_result"
    }
   ],
   "source": [
    "coopSociali.head()"
   ]
  },
  {
   "cell_type": "markdown",
   "metadata": {
    "slideshow": {
     "slide_type": "subslide"
    }
   },
   "source": [
    "* Proviamo ad aprire il file su Google Drive. Usiamo ad esempio <pre>IMPORTDATA(\"https://www.dati.lombardia.it/api/views/tuar-wxya/rows.csv?accessType=DOWNLOAD\")</pre>\n"
   ]
  },
  {
   "cell_type": "markdown",
   "metadata": {
    "slideshow": {
     "slide_type": "slide"
    }
   },
   "source": [
    "## XML (eXtensible Markup Language)\n",
    "\n",
    "* Linguaggio di _markup_: testo + tag\n",
    "    * Es ```<persona><nome>Matteo</nome><cognome>Fortini</cognome></persona>```\n",
    "* Gerarchico\n",
    "* Può rappresentare qualunque tipo di dato\n",
    "* Spesso associato a una DTD Document Type Definition\n",
    "* Linguaggio XQuery per l'analisi\n",
    "* Molti formati di file sono basati su XML, es ODS/ODT,DOCX/XLSX, ...\n",
    "* Formato molto importante: RSS"
   ]
  },
  {
   "cell_type": "code",
   "execution_count": 125,
   "metadata": {
    "slideshow": {
     "slide_type": "subslide"
    }
   },
   "outputs": [
    {
     "name": "stdout",
     "output_type": "stream",
     "text": [
      "<response>\n",
      "  <row>\n",
      "    <row _id=\"3010\" _uuid=\"556A6125-B90E-45D3-8FAE-7A6D88D53E0A\" _position=\"3010\" _address=\"https://www.dati.lombardia.it/resource/tuar-wxya/3010\">\n",
      "      <denominazione>ZEROGRAFICA SOCIETA' COOPERATIVA SOCIALE</denominazione>\n",
      "      <comune>Milano</comune>\n",
      "      <provincia>MI</provincia>\n",
      "      <telefono>3387621099</telefono>\n",
      "      <attivita_>Tipografia e stampa</attivita_>\n",
      "      <tipologie_persone_svantaggiate>Detenuti</tipologie_persone_svantaggiate>\n",
      "      <wgs84_y>45.5253903</wgs84_y>\n",
      "      <wgs84_x>9.0936669</wgs84_x>\n",
      "      <location human_address=\"{&quot;address&quot;:&quot;&quot;,&quot;city&quot;:&quot;&quot;,&quot;state&quot;:&quot;&quot;,&quot;zip&quot;:&quot;&quot;}\" latitude=\"45.5253903\" longitude=\"9.0936669\" needs_recoding=\"false\"/>\n",
      "    </row>\n",
      "    <row _id=\"3011\" _uuid=\"2899B26F-8A5B-47AD-9412-55A68C108590\" _position=\"3011\" _address=\"https://www.dati.lombardia.it/resource/tuar-wxya/3011\">\n",
      "      <denominazione>STELLA MARIS - SOCIETA' COOPERATIVA SOCIALE ONLUS\n"
     ]
    }
   ],
   "source": [
    "coopSocialiFXML=open('download/Albo_Cooperative_Sociali_al_31.12.2015.xml','r')\n",
    "\n",
    "coopSocialiFXMLTree=etree.parse(coopSocialiFXML)\n",
    "\n",
    "print(etree.tostring(coopSocialiFXMLTree,pretty_print=True)[:1000].decode(\"ascii\"))\n"
   ]
  },
  {
   "cell_type": "markdown",
   "metadata": {
    "slideshow": {
     "slide_type": "subslide"
    }
   },
   "source": [
    "* Anche questo può essere aperto in Google Drive con <pre>IMPORTXML(\"https://www.dati.lombardia.it/api/views/tuar-wxya/rows.xml?accessType=DOWNLOAD\";\"/response/row/row\")</pre>\n",
    "* NB Notare che abbiamo dovuto aggiungere una _query xpath_\n",
    "    * Il pregio è che cambiando la query possiamo selezionare solo una parte, esempio <pre>/response/row/row/denominazione</pre>\n"
   ]
  },
  {
   "cell_type": "markdown",
   "metadata": {
    "slideshow": {
     "slide_type": "subslide"
    }
   },
   "source": [
    "### RSS\n",
    "\n",
    "* RSS è un dialetto di XML\n",
    "* permette di distribuire aggiornamenti in modo semplice\n",
    "* è pensato per facilitare la gestione automatizzata\n",
    "\n",
    "https://validator.w3.org/feed/docs/rss2.html\n",
    "\n",
    "Esempi:\n",
    "* http://www.protezionecivile.gov.it/jcms/it/rss.wp\n",
    "* http://www.radio.rai.it/rss/podcast/rssradio.jsp?channel=RF2&n=&id=16269\n"
   ]
  },
  {
   "cell_type": "code",
   "execution_count": 130,
   "metadata": {
    "slideshow": {
     "slide_type": "subslide"
    }
   },
   "outputs": [
    {
     "name": "stdout",
     "output_type": "stream",
     "text": [
      "<rss xmlns:itunes=\"http://www.itunes.com/dtds/podcast-1.0.dtd\" version=\"2.0\">\n",
      "  <channel>\n",
      "    <title>pascal</title>\n",
      "    <link>http://www.radio2.rai.it/dl/portaleRadio/Programmi/Page-0e06ff4d-fb20-4ef1-a675-0be791150831.html?set=ContentSet-c49babfb-8ac7-44b3-b461-9166ef14e18c&amp;type=Main</link>\n",
      "    <itunes:subtitle>Pascal &#232; il programma di Matteo Caccia in onda su Radio2 dal luned&#236; al venerd&#236; alle 22.30 che racconta storie di vita.</itunes:subtitle>\n",
      "    <description>Pascal &#232; il programma di Matteo Caccia in onda su Radio2 dal luned&#236; al venerd&#236; alle 22.30 che racconta storie di vita.\n",
      "Episodi grandi o piccoli, stravolgenti o minuti, momenti che hanno modificato per sempre la nostra vita o che, anche se di poco, l&#146;hanno indirizzata. Storie che sono il termometro della temperatura di ognuno di noi e che in parte raccontano chi siamo. \n",
      "Quando eravamo bambini e scoprimmo un enorme segreto, quando quella notte in viaggio ci perdemmo, quando la incontrammo e\n"
     ]
    }
   ],
   "source": [
    "podcastTree=etree.parse(\"http://www.radio.rai.it/rss/podcast/rssradio.jsp?channel=RF2&n=&id=16269\")\n",
    "print(etree.tostring(podcastTree,pretty_print=True)[:1000].decode(\"utf-8\"))\n"
   ]
  },
  {
   "cell_type": "markdown",
   "metadata": {},
   "source": [
    "### Con i feed RSS possiamo collegare servizi usando ad esempio\n",
    "\n",
    "* Un lettore di feed (es. Thunderbird) \n",
    "* IFTTT https://ifttt.com/feed\n",
    "* Zapier https://zapier.com/apps/rss/integrations"
   ]
  },
  {
   "cell_type": "markdown",
   "metadata": {
    "slideshow": {
     "slide_type": "slide"
    }
   },
   "source": [
    "## JSON (JavaScript Object Notation)\n",
    "\n",
    "https://www.json.org/json-it.html\n",
    "\n",
    "* Nasce per essere più sintetico di XML\n",
    "* Rimane gerarchico\n",
    "\n"
   ]
  },
  {
   "cell_type": "code",
   "execution_count": 131,
   "metadata": {
    "slideshow": {
     "slide_type": "subslide"
    }
   },
   "outputs": [
    {
     "name": "stdout",
     "output_type": "stream",
     "text": [
      "{\n",
      "    \"data\": [\n",
      "        [\n",
      "            3010,\n",
      "            \"556A6125-B90E-45D3-8FAE-7A6D88D53E0A\",\n",
      "            3010,\n",
      "            1456838409,\n",
      "            \"52\",\n",
      "            1456838409,\n",
      "            \"52\",\n",
      "            null,\n",
      "            \"ZEROGRAFICA SOCIETA' COOPERATIVA SOCIALE\",\n",
      "            \"Milano\",\n",
      "            \"MI\",\n",
      "            \"3387621099\",\n",
      "            null,\n",
      "            null,\n",
      "            null,\n",
      "            \"Tipografia e stampa\",\n",
      "            \"Detenuti\",\n",
      "            \"45.5253903\",\n",
      "            \"9.0936669\",\n",
      "            [\n",
      "                \"{\\\"address\\\":\\\"\\\",\\\"city\\\":\\\"\\\",\\\"state\\\":\\\"\\\",\\\"zip\\\":\\\"\\\"}\",\n",
      "                \"45.5253903\",\n",
      "                \"9.0936669\",\n",
      "                null,\n",
      "                false\n",
      "            ]\n",
      "        ],\n",
      "        [\n",
      "            3011,\n",
      "            \"2899B26F-8A5B-47AD-9412-55A68C108590\",\n",
      "            3011,\n",
      "            1456838409,\n",
      "            \"52\",\n",
      "            1456838409,\n",
      "            \"52\",\n",
      "            null,\n",
      "            \"STELLA MARIS - SOCIETA' COOPERATIVA SOCIALE ONLUS\",\n",
      "            \"Mantova\",\n",
      "            \"MN\",\n",
      "            \"0376151018\",\n",
      "            \"info@coopstellamaris.it\",\n",
      "            \"Anziani, Disabili/Handicappati, Famiglia, Psichiatria\",\n",
      "            \"Altro, Assistenza Domiciliare integrata Anziani, Assistenza Domiciliare integrata Disabili, Assistenza domiciliare pazienti psichiatrici\",\n",
      "            null,\n",
      "            null,\n",
      "            \"45.1518998\",\n",
      "            \"10.7822165\",\n",
      "            [\n",
      "                \"{\\\"address\\\":\\\"\\\",\\\"city\\\":\\\"\\\",\\\"state\\\":\\\"\\\",\\\"zip\\\":\\\"\\\"}\",\n",
      "                \"45.1518998\",\n",
      "                \"10.7822165\",\n",
      "                null,\n",
      "                false\n",
      "            ]\n",
      "        ]\n",
      "    ]\n",
      "}\n"
     ]
    }
   ],
   "source": [
    "coopSocialiFJSON=open('download/Albo_Cooperative_Sociali_al_31.12.2015.json','r')\n",
    "\n",
    "coopSocialiFJSONtree=json.load(coopSocialiFJSON)\n",
    "\n",
    "print(json.dumps({\"data\":coopSocialiFJSONtree[\"data\"][0:2]},indent=4, sort_keys=True))"
   ]
  },
  {
   "cell_type": "markdown",
   "metadata": {
    "slideshow": {
     "slide_type": "slide"
    }
   },
   "source": [
    "## GeoJSON\n",
    "\n",
    "http://geojson.org/\n",
    "\n",
    "* È un'estensione di JSON creata per contenere _dati geografici_, ovvero\n",
    "    * Punti\n",
    "    * Linee\n",
    "    * Poligoni\n",
    "    \n",
    "  che abbiano delle _coordinate geografiche_\n",
    "  \n",
    "> The coordinate reference system for all GeoJSON coordinates is a\n",
    "   geographic coordinate reference system, using the World Geodetic\n",
    "   System 1984 (WGS 84) [WGS84] datum, with longitude and latitude units\n",
    "   of decimal degrees."
   ]
  },
  {
   "cell_type": "markdown",
   "metadata": {
    "slideshow": {
     "slide_type": "slide"
    }
   },
   "source": [
    "## (Tabular) Data Package\n",
    "\n",
    "* Dal progetto [Frictionless data](frictionlessdata.io) di OKFN Open Knowledge Foundation\n",
    "* https://frictionlessdata.io/docs/tabular-data-package/\n",
    "* CSV+JSON con uno schema di metadati per descrivere il contenuto del CSV"
   ]
  },
  {
   "cell_type": "markdown",
   "metadata": {
    "slideshow": {
     "slide_type": "slide"
    }
   },
   "source": [
    "## Formati per LD (Linked Data)\n",
    "\n",
    "* Basati su _triple_ soggetto,predicato,oggetto\n",
    "* Vengono create dell _ontologie_ che definiscono relazioni e attributi in domini particolari\n",
    "* Vengono utilizzate degli URI univoci che permettono di collegare basi dati fra di loro\n",
    "\n",
    "\n",
    "* https://lod-cloud.net/\n",
    "* http://lodview.it/ [Esempio](http://lodview.it/lodview/?IRI=http%3A%2F%2Fdbpedia.org%2Fresource%2FLondon&sparql=http%3A%2F%2Fdbpedia.org%2Fsparql&prefix=http%3A%2F%2Fdbpedia.org%2Fresource) NB cliccare sui cerchietti in alto a destra per la visualizzazione grafica\n"
   ]
  },
  {
   "cell_type": "markdown",
   "metadata": {
    "slideshow": {
     "slide_type": "slide"
    }
   },
   "source": [
    "# Dove troviamo open data?\n",
    "\n",
    "* Pubblici\n",
    "* Volontari\n",
    "* Privati\n"
   ]
  },
  {
   "cell_type": "markdown",
   "metadata": {
    "slideshow": {
     "slide_type": "slide"
    }
   },
   "source": [
    "# Dati Pubblici\n",
    "\n",
    "* I dati pubblici hanno due motivazioni fondamentali:\n",
    "    * La **trasparenza**\n",
    "    * La **restituzione** (nel senso che sono dati finanziati da denaro pubblico)"
   ]
  },
  {
   "attachments": {},
   "cell_type": "markdown",
   "metadata": {
    "slideshow": {
     "slide_type": "subslide"
    }
   },
   "source": [
    "## Trasparenza e _open government_\n",
    "\n",
    "<center><img src=\"img/Open_government_-_italian_1.svg\" width=700></center>"
   ]
  },
  {
   "cell_type": "markdown",
   "metadata": {
    "slideshow": {
     "slide_type": "subslide"
    }
   },
   "source": [
    "## La trasparenza\n",
    "\n",
    "<center>\n",
    "\n",
    "<strong>Need to know</strong>\n",
    "\n",
    "<br>\n",
    "diventa\n",
    "<br>\n",
    "\n",
    "<strong>Right to know</strong>\n",
    "\n",
    "</center>\n",
    "\n",
    "Ho _diritto_ di sapere, non ti devo dimostrare la mia _necessità_.\n",
    "\n",
    ">The Three Laws of Open Government Data:\n",
    ">\n",
    ">* If it can’t be spidered or indexed, it doesn’t exist\n",
    ">* If it isn’t available in open and machine readable format, it can’t engage\n",
    ">* If a legal framework doesn’t allow it to be repurposed, it doesn’t empower\n",
    ">\n",
    "> <cite>David Eaves</cite>"
   ]
  },
  {
   "cell_type": "markdown",
   "metadata": {
    "slideshow": {
     "slide_type": "subslide"
    }
   },
   "source": [
    "## Trasparenza in Italia\n",
    "\n",
    "* Svezia 1766, \"Freedom of the Press Act\" nella Costituzione\n",
    "* Finlandia 1951 \"Laki yleisten asiakirjain julkisuudesta 9.2.1951/83\"\n",
    "* **Italia**:\n",
    "    * [Decreto \"trasparenza\" 33/2013](http://www.normattiva.it/uri-res/N2Ls?urn:nir:stato:decreto.legislativo:2013-03-14;33!vig=)\n",
    "    * [Decreto legislativo \"FOIA\" 97/2016](http://www.foia.gov.it/foia/)\n"
   ]
  },
  {
   "cell_type": "markdown",
   "metadata": {
    "slideshow": {
     "slide_type": "subslide"
    }
   },
   "source": [
    "## Trasparenza in Italia\n",
    "\n",
    "**Open by default**\n",
    "\n",
    "><cite>Art. 52 del CAD - Codice Amministrazione Digitale</cite>\n",
    ">\n",
    ">2.  I  dati  e  i  documenti  che  i  soggetti  di  cui\n",
    ">all'articolo  2,  comma  2,   pubblicano,   con   qualsiasi\n",
    ">modalità, senza l'espressa adozione di una licenza di  cui\n",
    ">all'articolo  2,  comma  1,   lettera   h),   del   decreto\n",
    ">legislativo 24 gennaio 2006, n. 36, si intendono rilasciati\n",
    ">come dati di tipo aperto ai sensi all'articolo 1, comma  1,\n",
    ">lettere l-bis) e l-ter), del presente Codice, ad  eccezione\n",
    ">dei casi in cui la pubblicazione riguardi dati personali.\n"
   ]
  },
  {
   "cell_type": "markdown",
   "metadata": {
    "slideshow": {
     "slide_type": "subslide"
    }
   },
   "source": [
    "### Quali esempi di Open data pubblici italiani?\n",
    "\n",
    "#### Dati pubblici per trasparenza\n",
    "\n",
    "* Governo: [Italiasicura](http://italiasicura.governo.it)\n",
    "* Parlamento: \n",
    "    * [Camera](http://dati.camera.it/it/)\n",
    "    * [Senato](http://dati.senato.it/sito/home)\n",
    "* [Ministero dell'Interno](http://dait.interno.gov.it/)"
   ]
  },
  {
   "cell_type": "markdown",
   "metadata": {
    "slideshow": {
     "slide_type": "subslide"
    }
   },
   "source": [
    "### Quali esempi di Open data pubblici italiani?\n",
    "\n",
    "#### Dati pubblici per trasparenza\n",
    "\n",
    "* [MIT](http://dati.mit.gov.it/catalog/dataset)\n",
    "* [MIUR](http://dati.istruzione.it/opendata/)\n",
    "* [Ministero della Salute](http://www.dati.salute.gov.it/dati/homeDataset.jsp)\n",
    "* [Normattiva](http://www.normattiva.it)\n",
    "* [OpenCUP](http://opencup.gov.it/)"
   ]
  },
  {
   "cell_type": "markdown",
   "metadata": {
    "slideshow": {
     "slide_type": "subslide"
    }
   },
   "source": [
    "### Quali esempi di Open data pubblici italiani?\n",
    "\n",
    "#### Dati pubblici per trasparenza\n",
    "\n",
    "* [MISE](http://www.sviluppoeconomico.gov.it/index.php/it/open-data)\n",
    "* [MEF](http://www.sviluppoeconomico.gov.it/index.php/it/open-data)\n",
    "* [MiBACT](http://www.beniculturali.it/mibac/export/MiBAC/sito-MiBAC/MenuPrincipale/Trasparenza/Open-Data/index.html)\n",
    "* [SIOPE](https://www.siope.it/Siope/ http://soldipubblici.gov.it/it/home)"
   ]
  },
  {
   "cell_type": "markdown",
   "metadata": {
    "slideshow": {
     "slide_type": "subslide"
    }
   },
   "source": [
    "### Quali esempi di Open data pubblici italiani?\n",
    "\n",
    "#### Dati pubblici perché finanziati con denaro pubblico\n",
    "\n",
    "* [ISTAT](http://dati.istat.it/) Preziosissimo [Basi territoriali e variabili censuarie](https://www.istat.it/it/archivio/104317)\n",
    "* [ISPRA](http://www.isprambiente.gov.it/it/banche-dati)\n",
    "* [Copernicus](http://copernicus.eu/data-access)\n",
    "* [ARPA Lombardia](https://www.dati.lombardia.it/Government/ARPA-LOMBARDIA-elenco-dataset-pubblicati/8ask-gxyr/data)\n",
    "\n"
   ]
  },
  {
   "cell_type": "markdown",
   "metadata": {
    "slideshow": {
     "slide_type": "subslide"
    }
   },
   "source": [
    "### Portali di dati pubblici nazionali\n",
    "\n",
    "* [Dati Gov](http://dati.gov.it/)\n",
    "* [RNDT Repertorio Nazionale Dati Territoriali](http://geodati.gov.it/geoportale/)\n",
    "* [ANBSC](http://www.benisequestraticonfiscati.it/)\n"
   ]
  },
  {
   "cell_type": "markdown",
   "metadata": {
    "slideshow": {
     "slide_type": "subslide"
    }
   },
   "source": [
    "## Basi dati di interesse nazionale\n",
    "\n",
    "* [Lista](https://www.agid.gov.it/it/dati/basi-dati-interesse-nazionale) definita da AgID"
   ]
  },
  {
   "cell_type": "markdown",
   "metadata": {},
   "source": [
    "## Detto questo, come siamo messi?\n",
    "\n",
    "* [Open Data Index](https://index.okfn.org/)"
   ]
  },
  {
   "cell_type": "markdown",
   "metadata": {
    "slideshow": {
     "slide_type": "subslide"
    }
   },
   "source": [
    "## Altri Open data\n",
    "\n",
    "* [Lista da Nature](https://www.nature.com/sdata/policies/repositories)\n",
    "* [Awesome Public Datasets](https://github.com/awesomedata/awesome-public-datasets)\n",
    "* [Kaggle](https://www.kaggle.com/datasets)\n",
    "* [Project Gutenberg](http://www.gutenberg.org/)\n"
   ]
  },
  {
   "cell_type": "markdown",
   "metadata": {
    "slideshow": {
     "slide_type": "slide"
    }
   },
   "source": [
    "# Dati \"volontari\"\n",
    "\n",
    "Molti progetti producono dati in modo collaborativo e volontario."
   ]
  },
  {
   "cell_type": "markdown",
   "metadata": {
    "slideshow": {
     "slide_type": "subslide"
    }
   },
   "source": [
    "## Wikipedia\n",
    "\n",
    "* Enciclopedia libera\n",
    "* Diventa una base dati LOD:\n",
    "    * [DBPedia](http://it.dbpedia.org/sparql) proviamo anche il chatbot http://chat.dbpedia.org/\n",
    "    * [Wikidata](https://query.wikidata.org/)"
   ]
  },
  {
   "cell_type": "markdown",
   "metadata": {
    "slideshow": {
     "slide_type": "subslide"
    }
   },
   "source": [
    "## OpenStreetMap\n",
    "\n",
    "* Mappa collaborativa, ma anche DB geografico\n",
    "* Licenza ODBL (share alike)\n",
    "* Fornisce un motore di interrogazione: [Overpass](https://overpass-turbo.eu/)\n",
    "* Esistono tool per collaborare in emergenza: [HOT](https://www.hotosm.org/)\n",
    "* Esistono mappe tematiche per:\n",
    "    * Bici/trekking: [OpenCycleMap](https://www.opencyclemap.org/)\n",
    "    * Disabilità motorie: [Wheelmap](https://wheelmap.org/it/map#/?lat=45.4613424441503&lon=9.159498500000009&q=milan&zoom=12)\n",
    "    * [Emergenze](https://wambachers-osm.website/emergency/#zoom=12&lat=45.469&lon=9.1914&layer=OpenStreetMap.org&overlays=FFFFFFFTFFFT)\n",
    "* Esistono tool per il routing: [OpenRouteService](https://maps.openrouteservice.org/)"
   ]
  },
  {
   "cell_type": "markdown",
   "metadata": {
    "slideshow": {
     "slide_type": "subslide"
    }
   },
   "source": [
    "## Altri dati da volontari\n",
    "\n",
    "* [data.world](https://data.world/)\n",
    "* [Internet Archive](http://www.archive.org/)\n",
    "* [Albo POP](http://albopop.it)\n",
    "* [Protezione Civile POP](http://www.protezionecivilepop.tk/)\n",
    "* [TerremotoCentroItalia.info](http://www.terremotocentroitalia.info)\n",
    "* [ItaliaAFuoco.info](http://www.italiaafuoco.info)\n",
    "* [Politicamente Corretto](http://www.unapromessa.it)\n"
   ]
  },
  {
   "cell_type": "markdown",
   "metadata": {
    "slideshow": {
     "slide_type": "slide"
    }
   },
   "source": [
    "# Progetti che usano open data\n",
    "\n",
    "* [SOD - Spaghetti Open Data](http://spaghettiopendata.org/)\n",
    "* [Monithon](http://www.monithon.it/)\n",
    "* [Open Ricostruzione](https://openricostruzione.regione.emilia-romagna.it/)\n",
    "* [Open Bilanci](https://openbilanci.it/)\n",
    "* [Confiscati Bene](http://www.confiscatibene.it/)\n",
    "* [Contratti Pubblici](https://contrattipubblici.org/)\n"
   ]
  },
  {
   "cell_type": "markdown",
   "metadata": {
    "slideshow": {
     "slide_type": "slide"
    }
   },
   "source": [
    "# Analisi dei dati"
   ]
  },
  {
   "cell_type": "markdown",
   "metadata": {
    "slideshow": {
     "slide_type": "notes"
    }
   },
   "source": [
    "* I principali metodi statistici e i loro pregi e difetti (vedi le distribuzioni con stessa media e varianza, ma diverse)\n",
    "* Spreadsheet e tabelle pivot\n",
    "* Openrefine?\n",
    "* Gephi?\n",
    "* Umap\n",
    "* Mapbox"
   ]
  },
  {
   "cell_type": "markdown",
   "metadata": {
    "slideshow": {
     "slide_type": "subslide"
    }
   },
   "source": [
    "## Media, moda, mediana, varianza\n",
    "\n",
    "* **Media**: $\\mu_X=\\frac{\\sum_{i=1}^N {x_i}}{N}$\n",
    "* **Deviazione standard**: $\\sigma_X=\\sqrt{\\frac{\\sum_i(x_i-\\mu_X)^2}{n}}$ \n",
    "* **Moda**: valore più frequente\n",
    "* **Mediana**: valore che ha il 50% di probabilità\n"
   ]
  },
  {
   "attachments": {},
   "cell_type": "markdown",
   "metadata": {
    "slideshow": {
     "slide_type": "subslide"
    }
   },
   "source": [
    "## Correlazione\n",
    "\n",
    "<center>$-1\\le\\rho_{xy}=\\frac{\\sigma_{xy}}{\\sigma_x\\sigma_y}=\\frac{\\sum_{i=1}^n(x_i-\\mu_x)(y_i-\\mu_y)}{\\sqrt{\\sum_{i=1}^n(x_i-\\mu_x)^2}\\sqrt{\\sum_{i=1}^n(y_i-\\mu_y)^2}}\\le+1$</center>\n",
    "\n",
    "![Correlation_examples.png](img/Correlation_examples.png)"
   ]
  },
  {
   "attachments": {},
   "cell_type": "markdown",
   "metadata": {
    "slideshow": {
     "slide_type": "subslide"
    }
   },
   "source": [
    "## Correlation is not causation\n",
    "\n",
    "* [Spurious Correlations](http://www.tylervigen.com/spurious-correlations)\n",
    "\n",
    "![correlation.png](img/correlation.png)\n",
    "\n",
    "(XKCD)"
   ]
  },
  {
   "cell_type": "markdown",
   "metadata": {
    "slideshow": {
     "slide_type": "slide"
    }
   },
   "source": [
    "## Spunti di riflessione\n",
    "\n",
    "* [Il nostro diritto digitale alla città](http://cittadigitale.openpolis.it/)\n",
    "* [Rosy Battaglia: Nova 24 su Open Government](http://www.rosybattaglia.it/nova-il-sole-24-ore/)\n"
   ]
  },
  {
   "cell_type": "markdown",
   "metadata": {
    "slideshow": {
     "slide_type": "slide"
    }
   },
   "source": [
    "# Data Visualization"
   ]
  },
  {
   "cell_type": "markdown",
   "metadata": {
    "slideshow": {
     "slide_type": "slide"
    }
   },
   "source": [
    "# Machine learning"
   ]
  },
  {
   "cell_type": "markdown",
   "metadata": {
    "slideshow": {
     "slide_type": "subslide"
    }
   },
   "source": [
    "## Confusion matrix"
   ]
  },
  {
   "cell_type": "markdown",
   "metadata": {
    "slideshow": {
     "slide_type": "subslide"
    }
   },
   "source": [
    "## Precisione di un test"
   ]
  },
  {
   "cell_type": "markdown",
   "metadata": {
    "slideshow": {
     "slide_type": "slide"
    }
   },
   "source": [
    "# Social Network Analysis"
   ]
  },
  {
   "cell_type": "markdown",
   "metadata": {
    "slideshow": {
     "slide_type": "slide"
    }
   },
   "source": [
    "# Come diventare produttori di dati?\n",
    "\n",
    "* Drive\n",
    "* Dropbox\n",
    "* File statici\n",
    "* Archive.org\n",
    "* data.world"
   ]
  },
  {
   "cell_type": "markdown",
   "metadata": {
    "slideshow": {
     "slide_type": "slide"
    }
   },
   "source": [
    "# Il _Civic Hacking_"
   ]
  },
  {
   "cell_type": "code",
   "execution_count": null,
   "metadata": {},
   "outputs": [],
   "source": []
  }
 ],
 "metadata": {
  "celltoolbar": "Slideshow",
  "hide_input": false,
  "kernelspec": {
   "display_name": "Python 3",
   "language": "python",
   "name": "python3"
  },
  "language_info": {
   "codemirror_mode": {
    "name": "ipython",
    "version": 3
   },
   "file_extension": ".py",
   "mimetype": "text/x-python",
   "name": "python",
   "nbconvert_exporter": "python",
   "pygments_lexer": "ipython3",
   "version": "3.6.5rc1"
  },
  "livereveal": {
   "footer": "<h3>Matteo Fortini</h3>",
   "header": "<center><h3>Open Data</h3></center>",
   "scroll": true
  }
 },
 "nbformat": 4,
 "nbformat_minor": 2
}
