{
 "cells": [
  {
   "cell_type": "markdown",
   "metadata": {
    "slideshow": {
     "slide_type": "slide"
    }
   },
   "source": [
    "# Dati Territoriali e Ambientali\n",
    "\n",
    "Opus Facere - Fondazione Golinelli\n",
    "\n",
    "Matteo Fortini"
   ]
  },
  {
   "cell_type": "code",
   "execution_count": 3,
   "metadata": {
    "slideshow": {
     "slide_type": "skip"
    }
   },
   "outputs": [],
   "source": [
    "%matplotlib inline\n",
    "import pandas as pd\n",
    "import numpy as np\n",
    "import geopandas as gpd\n",
    "import matplotlib.pyplot as plt\n",
    "import numpy as np\n",
    "\n",
    "# Make the graphs a bit prettier, and bigger\n",
    "plt.rcParams['figure.figsize'] = (15, 5)\n"
   ]
  },
  {
   "cell_type": "markdown",
   "metadata": {
    "slideshow": {
     "slide_type": "slide"
    }
   },
   "source": [
    "# Cosa sono i Dati?\n",
    "\n",
    "<img src=\"img/dataFireRegister.jpg\" width=\"80%\" />"
   ]
  },
  {
   "cell_type": "markdown",
   "metadata": {
    "slideshow": {
     "slide_type": "slide"
    }
   },
   "source": [
    "# Oggi, tutto è un dato\n",
    "\n",
    "* La **digitalizzazione** rende tutto una **sequenza di numeri**\n",
    "* I **computer** permettono di **elaborare** queste sequenze\n",
    "* Gli **algoritmi** permettono di **estrarre significato** da queste elaborazioni\n",
    "* La **scienza** permette di **analizzare** questi dati"
   ]
  },
  {
   "cell_type": "markdown",
   "metadata": {
    "slideshow": {
     "slide_type": "slide"
    }
   },
   "source": [
    "# Parliamo di **dati geografici**\n",
    "\n",
    "I dati aumentano di significato quando possiamo collegarli con altri.\n",
    "\n",
    "Il modo più semplice per abilitare questi collegamenti è assegnare delle **coordinate** ai dati. Queste coordinate possono essere in tutte le 4 dimensioni:\n",
    "\n",
    "* nello spazio: 3D o più spesso 2D se si parla di punti sulla superficie terrestre\n",
    "* nel tempo\n",
    "\n",
    "Le **interrogazioni** (_query_) che possiamo eseguire sui dati diventano quindi al primo livello di **prossimità** (in caso di elementi puntuali) o **sovrapposizione** (in caso di elementi che coinvolgano aree)."
   ]
  },
  {
   "cell_type": "markdown",
   "metadata": {
    "slideshow": {
     "slide_type": "subslide"
    }
   },
   "source": [
    "## Coordinate nello spazio\n",
    "\n",
    "<img src=\"img/1280px-Latitude_and_Longitude_of_the_Earth.svg.png\" width=\"80%\" />\n"
   ]
  },
  {
   "cell_type": "markdown",
   "metadata": {
    "slideshow": {
     "slide_type": "subslide"
    }
   },
   "source": [
    "## Alcuni problemi di conversione\n",
    "\n",
    "* La Terra non è una sfera\n",
    "* Si utilizza un **ellissoide**\n",
    "* A seconda delle scelte, vi saranno luoghi con più o meno errori\n",
    "* Ad ogni scelta, si dà origine a un **Sistema di Riferimento** (vedi [EPSG](http://www.epsg.org/))\n",
    "* Problema di conversione fra coordinate geografiche e cartesiane\n",
    "\n",
    "(Parallelo: le [proiezioni cartografiche](https://it.wikipedia.org/wiki/Categoria:Proiezioni_cartografiche))"
   ]
  },
  {
   "cell_type": "markdown",
   "metadata": {
    "slideshow": {
     "slide_type": "slide"
    }
   },
   "source": [
    "# I passaggi di un'analisi di dati\n",
    "\n",
    "# OSEMN\n",
    "\n",
    "1. **O**btaining data\n",
    "2. **S**crubbing data\n",
    "3. **E**xploring data\n",
    "4. **M**odeling data\n",
    "5. i**N**terpreting data\n",
    "\n",
    "Mason, Hilary, and Chris H. Wiggins. 2010. [“A Taxonomy of Data Science.”](http://www.dataists.com/2010/09/a-taxonomy-of-data-science.)\n"
   ]
  },
  {
   "cell_type": "markdown",
   "metadata": {
    "slideshow": {
     "slide_type": "slide"
    }
   },
   "source": [
    "## **O**btaining data\n",
    "\n",
    "Recuperare dei dati. Come si fa? Due strade non esclusive:\n",
    "\n",
    "* Li si prende da qualche parte\n",
    "* Li si genera"
   ]
  },
  {
   "cell_type": "markdown",
   "metadata": {
    "slideshow": {
     "slide_type": "subslide"
    }
   },
   "source": [
    "### Prendere dati da qualche parte\n",
    "\n",
    "* Esistono tantissimi dati già disponibili\n",
    "* Per utilizzare un _dataset_ occorre avere una **licenza**\n",
    "* È qui che entrano in gioco gli **open data**"
   ]
  },
  {
   "cell_type": "markdown",
   "metadata": {
    "slideshow": {
     "slide_type": "subslide"
    }
   },
   "source": [
    "### Cataloghi di dati _pubblici_\n",
    "\n",
    "Una lista (molto parziale) per iniziare\n",
    "\n",
    "* [Awesome public datasets](https://github.com/awesomedata/awesome-public-datasets)\n",
    "* [Awesome italian public datasets](https://github.com/italia/awesome-italian-public-datasets)\n",
    "* [dati.gov.it](http://dati.gov.it/)\n",
    "* [RNDT - Repertorio Nazionale Dati Territoriali](http://geodati.gov.it/geoportale/eng/)\n",
    "* [European Data Portal](https://data.europa.eu/euodp/en/home/)"
   ]
  },
  {
   "cell_type": "markdown",
   "metadata": {
    "slideshow": {
     "slide_type": "subslide"
    }
   },
   "source": [
    "### Dati pubblici generati da volontari(e)\n",
    "\n",
    "* [OpenStreetMap](https://www.openstreetmap.org) che è un DB geografico\n",
    "* [Wikipedia](https://it.wikipedia.org) e [Wikidata](https://www.wikidata.org/wiki/Wikidata:Main_Page)"
   ]
  },
  {
   "cell_type": "markdown",
   "metadata": {},
   "source": [
    "\n",
    "* https://sylum.lima-city.de/viziData/\n",
    "* https://tools.wmflabs.org/wikidata-todo/tempo_spatial_display.html"
   ]
  },
  {
   "cell_type": "markdown",
   "metadata": {
    "slideshow": {
     "slide_type": "slide"
    }
   },
   "source": [
    "## Perché visualizzare i dati?"
   ]
  },
  {
   "cell_type": "markdown",
   "metadata": {},
   "source": [
    "# Aumentiamo dei dati OSM\n",
    "\n",
    "* https://www.openstreetmap.org/edit?way=251564152#map=18/44.50795/11.30718\n",
    "* https://osmbuildings.org/?lat=44.50848&lon=11.30729&zoom=17.8&tilt=30\n",
    "* https://demo.f4map.com/#lat=44.5083724&lon=11.3071484&zoom=20"
   ]
  }
 ],
 "metadata": {
  "celltoolbar": "Slideshow",
  "kernelspec": {
   "display_name": "Python 3",
   "language": "python",
   "name": "python3"
  },
  "language_info": {
   "codemirror_mode": {
    "name": "ipython",
    "version": 3
   },
   "file_extension": ".py",
   "mimetype": "text/x-python",
   "name": "python",
   "nbconvert_exporter": "python",
   "pygments_lexer": "ipython3",
   "version": "3.7.2"
  }
 },
 "nbformat": 4,
 "nbformat_minor": 2
}
