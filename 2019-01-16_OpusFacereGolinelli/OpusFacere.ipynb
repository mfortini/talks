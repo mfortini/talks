{
 "cells": [
  {
   "cell_type": "markdown",
   "metadata": {
    "slideshow": {
     "slide_type": "slide"
    }
   },
   "source": [
    "# Dati Territoriali e Ambientali\n",
    "\n",
    "Opus Facere - Fondazione Golinelli\n",
    "\n",
    "Matteo Fortini"
   ]
  },
  {
   "cell_type": "code",
   "execution_count": 4,
   "metadata": {
    "slideshow": {
     "slide_type": "skip"
    }
   },
   "outputs": [],
   "source": [
    "%matplotlib inline\n",
    "import pandas as pd\n",
    "import numpy as np\n",
    "import geopandas as gpd\n",
    "import matplotlib.pyplot as plt\n",
    "import numpy as np\n",
    "\n",
    "# Make the graphs a bit prettier, and bigger\n",
    "plt.rcParams['figure.figsize'] = (15, 5)\n"
   ]
  },
  {
   "cell_type": "markdown",
   "metadata": {
    "slideshow": {
     "slide_type": "slide"
    }
   },
   "source": [
    "# Cosa sono i Dati?\n",
    "\n",
    "<img src=\"img/dataFireRegister.jpg\" width=\"80%\" />"
   ]
  },
  {
   "cell_type": "markdown",
   "metadata": {
    "slideshow": {
     "slide_type": "slide"
    }
   },
   "source": [
    "# Oggi, tutto è un dato\n",
    "\n",
    "* La **digitalizzazione** rende tutto una **sequenza di numeri**\n",
    "* I **computer** permettono di **elaborare** queste sequenze\n",
    "* Gli **algoritmi** permettono di **estrarre significato** da queste elaborazioni\n",
    "* La **scienza** permette di **analizzare** questi dati"
   ]
  },
  {
   "cell_type": "markdown",
   "metadata": {
    "slideshow": {
     "slide_type": "subslide"
    }
   },
   "source": [
    "## Un po' di esempi\n",
    "\n",
    "* I [prezzi dei carburanti](https://medium.com/@vincpatruno/vado-a-fare-il-pieno-di-benzina-in-veneto-51520dd0dfdc) qui i [dati](https://www.mise.gov.it/index.php/it/open-data/elenco-dataset/2036944-carburanti-archivio-prezzi)\n",
    "* Le [parole nei libri](https://books.google.com/ngrams)\n",
    "* Le [ricerche su Google](https://trends.google.com/trends/)\n",
    "* Dati [satellitari](https://s2maps.eu/)\n",
    "* Ricerca sui [suicidi](http://www.infodata.ilsole24ore.com/2019/01/15/i-suicidi-misurano-il-malessere-di-una-nazione-i-casi-di-russia-e-stati-uniti/) (qui i [dati](https://www.kaggle.com/szamil/who-suicide-statistics))\n",
    "* Dati sulla [ricchezza e popolazione delle nazioni](https://www.kaggle.com/gemartin/world-bank-data-1960-to-2016)\n"
   ]
  },
  {
   "cell_type": "markdown",
   "metadata": {
    "slideshow": {
     "slide_type": "slide"
    }
   },
   "source": [
    "# Parliamo di **dati geografici**\n",
    "\n",
    "I dati aumentano di significato quando possiamo collegarli con altri.\n",
    "\n",
    "Il modo più semplice per abilitare questi collegamenti è assegnare delle **coordinate** ai dati. Queste coordinate possono essere in tutte le 4 dimensioni:\n",
    "\n",
    "* nello spazio: 3D o più spesso 2D se si parla di punti sulla superficie terrestre\n",
    "* nel tempo\n",
    "\n",
    "Le **interrogazioni** (_query_) che possiamo eseguire sui dati diventano quindi al primo livello di **prossimità** (in caso di elementi puntuali) o **sovrapposizione** (in caso di elementi che coinvolgano aree)."
   ]
  },
  {
   "cell_type": "markdown",
   "metadata": {
    "slideshow": {
     "slide_type": "subslide"
    }
   },
   "source": [
    "## Coordinate nello spazio\n",
    "\n",
    "<img src=\"img/1280px-Latitude_and_Longitude_of_the_Earth.svg.png\" width=\"80%\" />\n"
   ]
  },
  {
   "cell_type": "markdown",
   "metadata": {
    "slideshow": {
     "slide_type": "subslide"
    }
   },
   "source": [
    "## Alcuni problemi di conversione\n",
    "\n",
    "* La Terra non è una sfera\n",
    "* Si utilizza un **ellissoide**\n",
    "* A seconda delle scelte, vi saranno luoghi con più o meno errori\n",
    "* Ad ogni scelta, si dà origine a un **Sistema di Riferimento** (vedi [EPSG](http://www.epsg.org/))\n",
    "* Problema di conversione fra coordinate geografiche e cartesiane\n",
    "\n",
    "(Parallelo: le [proiezioni cartografiche](https://it.wikipedia.org/wiki/Categoria:Proiezioni_cartografiche))"
   ]
  },
  {
   "cell_type": "markdown",
   "metadata": {
    "slideshow": {
     "slide_type": "slide"
    }
   },
   "source": [
    "# I passaggi di un'analisi di dati\n",
    "\n",
    "# OSEMN\n",
    "\n",
    "1. **O**btaining data\n",
    "2. **S**crubbing data\n",
    "3. **E**xploring data\n",
    "4. **M**odeling data\n",
    "5. i**N**terpreting data\n",
    "\n",
    "Mason, Hilary, and Chris H. Wiggins. 2010. [“A Taxonomy of Data Science.”](http://www.dataists.com/2010/09/a-taxonomy-of-data-science.)\n"
   ]
  },
  {
   "cell_type": "markdown",
   "metadata": {
    "slideshow": {
     "slide_type": "slide"
    }
   },
   "source": [
    "## 1. **O**btaining data\n",
    "\n",
    "Recuperare dei dati. Come si fa? Due strade non esclusive:\n",
    "\n",
    "* Li si prende da qualche parte\n",
    "* Li si genera"
   ]
  },
  {
   "cell_type": "markdown",
   "metadata": {
    "slideshow": {
     "slide_type": "subslide"
    }
   },
   "source": [
    "### Prendere dati da qualche parte\n",
    "\n",
    "* Esistono tantissimi dati già disponibili\n",
    "* Per utilizzare un _dataset_ occorre avere una **licenza**\n",
    "* È qui che entrano in gioco gli **open data**"
   ]
  },
  {
   "cell_type": "markdown",
   "metadata": {
    "slideshow": {
     "slide_type": "subslide"
    }
   },
   "source": [
    "### Esercizio: creiamo un dataset\n",
    "\n",
    "* Le nostre date di nascita\n",
    "* Le nostre altezze\n",
    "* Dov'era la nostra scuola elementare\n",
    "\n",
    "https://goo.gl/forms/CVuh0UlZpzb22ZHL2\n"
   ]
  },
  {
   "cell_type": "markdown",
   "metadata": {
    "slideshow": {
     "slide_type": "slide"
    }
   },
   "source": [
    "## 2. Scrubbing data\n",
    "\n",
    "* I dati non sono necessariamente tutti nello stesso formato\n",
    "* Potrebbe essere necessario ripulirli, ovvero:\n",
    "   * eliminare doppioni\n",
    "   * sistemare maiuscole/minuscole\n",
    "   * eliminare spazi\n",
    "   * sistemare accenti\n",
    "   * ..."
   ]
  },
  {
   "cell_type": "markdown",
   "metadata": {
    "slideshow": {
     "slide_type": "subslide"
    }
   },
   "source": [
    "### Esercizio: ripuliamo il nostro dataset\n",
    "\n",
    "* Verifichiamo il formato\n",
    "* Verifichiamo gli spazi\n",
    "* Verifichiamo accenti e maiuscole/minuscole"
   ]
  },
  {
   "cell_type": "markdown",
   "metadata": {
    "slideshow": {
     "slide_type": "slide"
    }
   },
   "source": [
    "## 3. Exploring data\n",
    "\n",
    "Ci sono due modi principali per esplorare un dataset:\n",
    "\n",
    "* calcolare delle **statistiche**\n",
    "* **visualizzare**"
   ]
  },
  {
   "cell_type": "markdown",
   "metadata": {
    "slideshow": {
     "slide_type": "subslide"
    }
   },
   "source": [
    "### Calcolare delle statistiche\n",
    "\n",
    "* **moda**: valore più numeroso\n",
    "* **mediana**: valore che si trova a metà della popolazione del campione statistico\n",
    "* **media** $\\mu$: valore pari alla somma di tutti i valori, diviso il loro numero $\\mu = \\frac{\\sum_{i=1}^N{x_i}}{N}$\n",
    "* **deviazione standard** $\\sigma$: radice quadrata della somma della distanza al quadrato dei valori dalla media $\\sigma = \\sqrt{\\frac{\\sum_{i=1}^N{(x_i-\\mu)^2}}{N}}$\n",
    "* **indice di correlazione**: valore che misura la \"somiglianza\" di due dataset\n",
    "\n",
    "Sono stati inventati nel tempo tantissimi diversi indici statistici per cercare di descrivere i dataset, soprattutto nelle epoche in cui le visualizzazioni di dati erano soltanto manuali.\n",
    "\n",
    "Note:\n",
    "* La media soffre di un **errore standard** che può essere stimato come $e_S=\\frac{\\sigma}{\\sqrt{N}}$ quindi il valore stimato è $\\mu \\pm e_S$\n",
    "* Correlation is not causation: [Spurious correlations](http://tylervigen.com/spurious-correlations)"
   ]
  },
  {
   "cell_type": "markdown",
   "metadata": {
    "slideshow": {
     "slide_type": "subslide"
    }
   },
   "source": [
    "#### Esercizio: calcoliamo le statistiche sui nostri dati\n",
    "\n",
    "* Utilizziamo le formule dei Google sheet:\n",
    "   * Moda: MODE()\n",
    "   * Mediana: MEDIAN()\n",
    "   * Media: AVERAGE()\n",
    "   * Deviazione Standard: STDEV()"
   ]
  },
  {
   "cell_type": "markdown",
   "metadata": {
    "slideshow": {
     "slide_type": "subslide"
    }
   },
   "source": [
    "### Visualizzare\n",
    "\n",
    "Perché visualizzare i dati?\n",
    "\n",
    "* Perché le visualizzazioni (ben fatte) sono molto più **intuitive** ([come mentire](https://towardsdatascience.com/5-ways-data-visualizations-can-lie-46e54f41de37))\n",
    "* Perché le statistiche possono fallire\n",
    "\n",
    "<img src=\"img/anscombe_quartet.png\" width=\"70%\" />\n",
    "\n",
    "(Anscombe's Quartet by [Schutz](https://commons.wikimedia.org/wiki/User:Schutz))"
   ]
  },
  {
   "cell_type": "markdown",
   "metadata": {
    "slideshow": {
     "slide_type": "subslide"
    }
   },
   "source": [
    "#### Alcune regole per le visualizzazioni\n",
    "\n",
    "* [What makes a good data visualization](https://informationisbeautiful.net/visualizations/what-makes-a-good-data-visualization/)\n",
    "* [Cleveland e Mc Gill](https://www.getnerdyhr.com/1984-was-awesome-why-bar-charts-are-so-effective/)\n"
   ]
  },
  {
   "cell_type": "markdown",
   "metadata": {
    "slideshow": {
     "slide_type": "subslide"
    }
   },
   "source": [
    "#### Esercizio: Visualizziamo i dati del nostro dataset\n",
    "\n",
    "* Usando i grafici di Google\n",
    "* Usando [Datawrapper](https://www.datawrapper.de/)\n",
    "* Usando [Umap](https://umap.openstreetmap.fr/it/)\n",
    "* Usando [timeline.js](https://timeline.knightlab.com/)\n",
    "* Usando [storymap.js](https://storymap.knightlab.com/)"
   ]
  },
  {
   "cell_type": "markdown",
   "metadata": {
    "slideshow": {
     "slide_type": "slide"
    }
   },
   "source": [
    "# Open Data\n",
    "\n",
    "_“Open data and content can be freely used, modified, and shared by anyone for any purpose”_ ([Open definition](http://opendefinition.org/)).\n",
    "\n",
    "<img src=\"img/5-star-steps.png\" width=\"50%\" />\n",
    "\n",
    "[5-star Open Data](https://5stardata.info/en/)\n"
   ]
  },
  {
   "cell_type": "markdown",
   "metadata": {
    "slideshow": {
     "slide_type": "slide"
    }
   },
   "source": [
    "# Cataloghi di dati _pubblici_\n",
    "\n",
    "Una lista (molto parziale) per iniziare\n",
    "\n",
    "* [Awesome public datasets](https://github.com/awesomedata/awesome-public-datasets)\n",
    "* [Awesome italian public datasets](https://github.com/italia/awesome-italian-public-datasets)\n",
    "* [dati.gov.it](http://dati.gov.it/)\n",
    "* [RNDT - Repertorio Nazionale Dati Territoriali](http://geodati.gov.it/geoportale/eng/)\n",
    "* [European Data Portal](https://data.europa.eu/euodp/en/home/)\n",
    "* [Freecodecamp best free open data sources](https://medium.freecodecamp.org/https-medium-freecodecamp-org-best-free-open-data-sources-anyone-can-use-a65b514b0f2d)\n",
    "* [Data.world](https://data.world)\n",
    "* [dati.emilia-romagna.it](http://dati.emilia-romagna.it/)\n",
    "* [Dati di ARPAE](https://dati.arpae.it/)\n",
    "* [Kaggle](https://www.kaggle.com/datasets)\n",
    "* [Transit.land](http://transit.land/)"
   ]
  },
  {
   "cell_type": "markdown",
   "metadata": {
    "slideshow": {
     "slide_type": "subslide"
    }
   },
   "source": [
    "## Dati pubblici generati da volontari(e)\n",
    "\n",
    "Gli enti pubblici sono fra i più grandi produttori di dati. Ci sono però tanti dati che sono generati da volontari(e).\n",
    "\n",
    "* [OpenStreetMap](https://www.openstreetmap.org) che è un DB geografico (vedi [Overpass](https://overpass-turbo.eu/) o [figure ground](https://hanshack.com/figuregrounder/))\n",
    "* [Wikipedia](https://it.wikipedia.org), [Wikidata](https://www.wikidata.org/wiki/Wikidata:Main_Page) e [DBPedia](https://wiki.dbpedia.org/)"
   ]
  },
  {
   "cell_type": "markdown",
   "metadata": {
    "slideshow": {
     "slide_type": "slide"
    }
   },
   "source": [
    "# Esempio: i dati sui rifiuti\n",
    "\n",
    "* Utilizziamo il dataset di ARPAE\n",
    "* Impariamo a usare le **tabelle pivot**\n",
    "* Facciamo statistiche\n",
    "* Facciamo visualizzazioni dati\n"
   ]
  },
  {
   "cell_type": "markdown",
   "metadata": {},
   "source": [
    "\n",
    "* https://sylum.lima-city.de/viziData/\n",
    "* https://tools.wmflabs.org/wikidata-todo/tempo_spatial_display.html"
   ]
  },
  {
   "cell_type": "markdown",
   "metadata": {
    "slideshow": {
     "slide_type": "slide"
    }
   },
   "source": [
    "# Progetti"
   ]
  },
  {
   "cell_type": "markdown",
   "metadata": {
    "slideshow": {
     "slide_type": "subslide"
    }
   },
   "source": [
    "## Aumentiamo dei dati OSM\n",
    "\n",
    "* https://www.openstreetmap.org/edit?way=251564152#map=18/44.50795/11.30718\n",
    "* https://osmbuildings.org/?lat=44.50848&lon=11.30729&zoom=17.8&tilt=30\n",
    "* https://demo.f4map.com/#lat=44.5083724&lon=11.3071484&zoom=20"
   ]
  },
  {
   "cell_type": "markdown",
   "metadata": {
    "slideshow": {
     "slide_type": "subslide"
    }
   },
   "source": [
    "## Mapillary\n",
    "\n",
    "* [Documentiamo con Mapillary](https://www.mapillary.com/app/?focus=map&lat=44.508206674198846&lng=11.306618811716135&z=17.509119280631033), interno ed esterno\n"
   ]
  },
  {
   "cell_type": "markdown",
   "metadata": {
    "slideshow": {
     "slide_type": "subslide"
    }
   },
   "source": [
    "## Noise planet\n",
    "\n",
    "* [Documentiamo i livelli di rumore](http://noise-planet.org/map_noisecapture/index.html#17/44.50807/11.30787/)"
   ]
  },
  {
   "cell_type": "code",
   "execution_count": null,
   "metadata": {},
   "outputs": [],
   "source": []
  }
 ],
 "metadata": {
  "celltoolbar": "Slideshow",
  "kernelspec": {
   "display_name": "Python 3",
   "language": "python",
   "name": "python3"
  },
  "language_info": {
   "codemirror_mode": {
    "name": "ipython",
    "version": 3
   },
   "file_extension": ".py",
   "mimetype": "text/x-python",
   "name": "python",
   "nbconvert_exporter": "python",
   "pygments_lexer": "ipython3",
   "version": "3.7.2"
  }
 },
 "nbformat": 4,
 "nbformat_minor": 2
}
